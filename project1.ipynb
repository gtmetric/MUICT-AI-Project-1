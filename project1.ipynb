{
 "cells": [
  {
   "cell_type": "code",
   "execution_count": 88,
   "metadata": {},
   "outputs": [],
   "source": [
    "import numpy as np\n",
    "import pandas as pd\n",
    "import json"
   ]
  },
  {
   "cell_type": "code",
   "execution_count": 89,
   "metadata": {},
   "outputs": [],
   "source": [
    "# Initialize the dataset\n",
    "data = {'Outlook':['Sunny','Sunny','Overcast','Rain','Rain','Rain','Overcast','Sunny','Sunny','Rain','Sunny','Overcast','Overcast','Rain'],\n",
    "       'Temperature':['Hot','Hot','Hot','Mild','Cool','Cool','Cool','Mild','Cool','Mild','Mild','Mild','Hot','Mild'],\n",
    "       'Humidity':['High','High','High','High','Normal','Normal','Normal','High','Normal','Normal','Normal','High','Normal','High'],\n",
    "       'Wind':['Weak','Strong','Weak','Weak','Weak','Strong','Strong','Weak','Weak','Weak','Strong','Strong','Weak','Strong'],\n",
    "       'PlayTennis':['No','No','Yes','Yes','Yes','No','Yes','No','Yes','Yes','Yes','Yes','Yes','No']}"
   ]
  },
  {
   "cell_type": "code",
   "execution_count": 90,
   "metadata": {},
   "outputs": [
    {
     "output_type": "execute_result",
     "data": {
      "text/plain": [
       "     Outlook Temperature Humidity    Wind PlayTennis\n",
       "0      Sunny         Hot     High    Weak         No\n",
       "1      Sunny         Hot     High  Strong         No\n",
       "2   Overcast         Hot     High    Weak        Yes\n",
       "3       Rain        Mild     High    Weak        Yes\n",
       "4       Rain        Cool   Normal    Weak        Yes\n",
       "5       Rain        Cool   Normal  Strong         No\n",
       "6   Overcast        Cool   Normal  Strong        Yes\n",
       "7      Sunny        Mild     High    Weak         No\n",
       "8      Sunny        Cool   Normal    Weak        Yes\n",
       "9       Rain        Mild   Normal    Weak        Yes\n",
       "10     Sunny        Mild   Normal  Strong        Yes\n",
       "11  Overcast        Mild     High  Strong        Yes\n",
       "12  Overcast         Hot   Normal    Weak        Yes\n",
       "13      Rain        Mild     High  Strong         No"
      ],
      "text/html": "<div>\n<style scoped>\n    .dataframe tbody tr th:only-of-type {\n        vertical-align: middle;\n    }\n\n    .dataframe tbody tr th {\n        vertical-align: top;\n    }\n\n    .dataframe thead th {\n        text-align: right;\n    }\n</style>\n<table border=\"1\" class=\"dataframe\">\n  <thead>\n    <tr style=\"text-align: right;\">\n      <th></th>\n      <th>Outlook</th>\n      <th>Temperature</th>\n      <th>Humidity</th>\n      <th>Wind</th>\n      <th>PlayTennis</th>\n    </tr>\n  </thead>\n  <tbody>\n    <tr>\n      <th>0</th>\n      <td>Sunny</td>\n      <td>Hot</td>\n      <td>High</td>\n      <td>Weak</td>\n      <td>No</td>\n    </tr>\n    <tr>\n      <th>1</th>\n      <td>Sunny</td>\n      <td>Hot</td>\n      <td>High</td>\n      <td>Strong</td>\n      <td>No</td>\n    </tr>\n    <tr>\n      <th>2</th>\n      <td>Overcast</td>\n      <td>Hot</td>\n      <td>High</td>\n      <td>Weak</td>\n      <td>Yes</td>\n    </tr>\n    <tr>\n      <th>3</th>\n      <td>Rain</td>\n      <td>Mild</td>\n      <td>High</td>\n      <td>Weak</td>\n      <td>Yes</td>\n    </tr>\n    <tr>\n      <th>4</th>\n      <td>Rain</td>\n      <td>Cool</td>\n      <td>Normal</td>\n      <td>Weak</td>\n      <td>Yes</td>\n    </tr>\n    <tr>\n      <th>5</th>\n      <td>Rain</td>\n      <td>Cool</td>\n      <td>Normal</td>\n      <td>Strong</td>\n      <td>No</td>\n    </tr>\n    <tr>\n      <th>6</th>\n      <td>Overcast</td>\n      <td>Cool</td>\n      <td>Normal</td>\n      <td>Strong</td>\n      <td>Yes</td>\n    </tr>\n    <tr>\n      <th>7</th>\n      <td>Sunny</td>\n      <td>Mild</td>\n      <td>High</td>\n      <td>Weak</td>\n      <td>No</td>\n    </tr>\n    <tr>\n      <th>8</th>\n      <td>Sunny</td>\n      <td>Cool</td>\n      <td>Normal</td>\n      <td>Weak</td>\n      <td>Yes</td>\n    </tr>\n    <tr>\n      <th>9</th>\n      <td>Rain</td>\n      <td>Mild</td>\n      <td>Normal</td>\n      <td>Weak</td>\n      <td>Yes</td>\n    </tr>\n    <tr>\n      <th>10</th>\n      <td>Sunny</td>\n      <td>Mild</td>\n      <td>Normal</td>\n      <td>Strong</td>\n      <td>Yes</td>\n    </tr>\n    <tr>\n      <th>11</th>\n      <td>Overcast</td>\n      <td>Mild</td>\n      <td>High</td>\n      <td>Strong</td>\n      <td>Yes</td>\n    </tr>\n    <tr>\n      <th>12</th>\n      <td>Overcast</td>\n      <td>Hot</td>\n      <td>Normal</td>\n      <td>Weak</td>\n      <td>Yes</td>\n    </tr>\n    <tr>\n      <th>13</th>\n      <td>Rain</td>\n      <td>Mild</td>\n      <td>High</td>\n      <td>Strong</td>\n      <td>No</td>\n    </tr>\n  </tbody>\n</table>\n</div>"
     },
     "metadata": {},
     "execution_count": 90
    }
   ],
   "source": [
    "# Create the dataframe\n",
    "df = pd.DataFrame(data)\n",
    "df"
   ]
  },
  {
   "cell_type": "code",
   "execution_count": 91,
   "metadata": {},
   "outputs": [
    {
     "output_type": "execute_result",
     "data": {
      "text/plain": [
       "  Outlook Temperature Humidity    Wind\n",
       "0   Sunny         Hot     High    Weak\n",
       "1   Sunny         Hot     High  Strong\n",
       "5    Rain        Cool   Normal  Strong\n",
       "7   Sunny        Mild     High    Weak"
      ],
      "text/html": "<div>\n<style scoped>\n    .dataframe tbody tr th:only-of-type {\n        vertical-align: middle;\n    }\n\n    .dataframe tbody tr th {\n        vertical-align: top;\n    }\n\n    .dataframe thead th {\n        text-align: right;\n    }\n</style>\n<table border=\"1\" class=\"dataframe\">\n  <thead>\n    <tr style=\"text-align: right;\">\n      <th></th>\n      <th>Outlook</th>\n      <th>Temperature</th>\n      <th>Humidity</th>\n      <th>Wind</th>\n    </tr>\n  </thead>\n  <tbody>\n    <tr>\n      <th>0</th>\n      <td>Sunny</td>\n      <td>Hot</td>\n      <td>High</td>\n      <td>Weak</td>\n    </tr>\n    <tr>\n      <th>1</th>\n      <td>Sunny</td>\n      <td>Hot</td>\n      <td>High</td>\n      <td>Strong</td>\n    </tr>\n    <tr>\n      <th>5</th>\n      <td>Rain</td>\n      <td>Cool</td>\n      <td>Normal</td>\n      <td>Strong</td>\n    </tr>\n    <tr>\n      <th>7</th>\n      <td>Sunny</td>\n      <td>Mild</td>\n      <td>High</td>\n      <td>Weak</td>\n    </tr>\n  </tbody>\n</table>\n</div>"
     },
     "metadata": {},
     "execution_count": 91
    }
   ],
   "source": [
    "# Try creating test dataset\n",
    "train = df[0:10]\n",
    "colNames = train.columns\n",
    "nrow, ncol = train.shape\n",
    "group = train.groupby(colNames[ncol-1])\n",
    "rowNames = group.first().index\n",
    "no = group.get_group(rowNames[0])\n",
    "no"
   ]
  },
  {
   "cell_type": "code",
   "execution_count": 92,
   "metadata": {},
   "outputs": [
    {
     "output_type": "execute_result",
     "data": {
      "text/plain": [
       "6"
      ]
     },
     "metadata": {},
     "execution_count": 92
    }
   ],
   "source": [
    "# Test counting the train records that has a yes\n",
    "nyes = (train['PlayTennis']=='Yes').sum()\n",
    "nyes"
   ]
  },
  {
   "cell_type": "code",
   "execution_count": 93,
   "metadata": {},
   "outputs": [
    {
     "output_type": "execute_result",
     "data": {
      "text/plain": [
       "Outlook         Sunny\n",
       "Temperature      Mild\n",
       "Humidity       Normal\n",
       "Wind           Strong\n",
       "PlayTennis        Yes\n",
       "Name: 10, dtype: object"
      ]
     },
     "metadata": {},
     "execution_count": 93
    }
   ],
   "source": [
    "# Test printing a record\n",
    "test = df[10:15]\n",
    "test.loc[10]"
   ]
  },
  {
   "cell_type": "code",
   "execution_count": 110,
   "metadata": {},
   "outputs": [],
   "source": [
    "# Node class for creating the Decision Tree\n",
    "class Node:\n",
    "    def __init__(self):\n",
    "        self.childs = []\n",
    "        self.value = ''\n",
    "        self.name = ''\n",
    "        self.by = ''\n",
    "        \n",
    "    # Add a child to the root\n",
    "    def addChild(self, node):\n",
    "        self.childs.append(node)\n",
    "\n",
    "    # Convert the tree to Dict\n",
    "    def toDict(root):\n",
    "        if root.value != '':\n",
    "            return root.value\n",
    "\n",
    "        else:\n",
    "            results = []\n",
    "            for child in root.childs:\n",
    "                value = Node.toDict(child)\n",
    "                results.append({child.by: value})\n",
    "            return {root.name: results}\n",
    "        \n",
    "    # Convert the tree to JSON\n",
    "    def toJSON(root):\n",
    "        return json.dumps(Node.toDict(root), indent=2)"
   ]
  },
  {
   "cell_type": "code",
   "execution_count": 111,
   "metadata": {},
   "outputs": [],
   "source": [
    "# Calculate the entropy of a dataset\n",
    "def entropy1(data):\n",
    "    nrow, ncol = data.shape\n",
    "    groups = data.groupby(data.columns[ncol-1])\n",
    "    rowNames = groups.first().index\n",
    "    H = 0\n",
    "\n",
    "    for row in rowNames:\n",
    "        group = groups.get_group(row)\n",
    "        p = len(group) / nrow\n",
    "        h = p * np.log2(p)\n",
    "        H += h\n",
    "\n",
    "    return -H\n",
    "\n",
    "# Calculate the entropy of a dataset given a column\n",
    "def entropy2(data, colName):\n",
    "    groups = data.groupby(colName)\n",
    "    rowNames = groups.first().index\n",
    "    H = 0\n",
    "    \n",
    "    for row in rowNames:\n",
    "        group = groups.get_group(row)\n",
    "        p = len(group) / len(data)\n",
    "        h = p * entropy1(group)\n",
    "        H += h\n",
    "\n",
    "    return H\n",
    "    \n",
    "# Calculate th information gains of all columns in a dataset\n",
    "def infoGains(data):\n",
    "    colNames = data.columns\n",
    "    nrow, ncol = data.shape\n",
    "    H = entropy1(data)\n",
    "    infoGains = []\n",
    "\n",
    "    for col in colNames:\n",
    "        if col != colNames[ncol-1]:\n",
    "            gain = H - entropy2(data, col)\n",
    "            infoGains.append(gain)\n",
    "\n",
    "    return infoGains    "
   ]
  },
  {
   "cell_type": "code",
   "execution_count": 112,
   "metadata": {},
   "outputs": [
    {
     "output_type": "execute_result",
     "data": {
      "text/plain": [
       "[0.3219280948873623,\n",
       " 0.09546184423832171,\n",
       " 0.12451124978365313,\n",
       " 0.0912774462416801]"
      ]
     },
     "metadata": {},
     "execution_count": 112
    }
   ],
   "source": [
    "infoGains(train)"
   ]
  },
  {
   "cell_type": "code",
   "execution_count": 113,
   "metadata": {},
   "outputs": [],
   "source": [
    "# Create a decision tree\n",
    "def decisionTree(data, root):\n",
    "    nrow, ncol = data.shape\n",
    "    if ncol > 1:\n",
    "        colNames = data.columns\n",
    "\n",
    "    # If the dataset is empty, return 'Unclassified'.\n",
    "    if nrow == 0 or ncol == 0:\n",
    "        root.value = 'Unclassified'\n",
    "\n",
    "    # If there is only one column, return the element occured the most often.\n",
    "    elif ncol == 1:\n",
    "        uniqueVals = pd.unique(data)\n",
    "        nmax = 0\n",
    "        maxVal = ''\n",
    "\n",
    "        for val in uniqueVals:\n",
    "            n = (data == val).sum()\n",
    "            if n > nmax:\n",
    "                nmax = n\n",
    "                maxVal = val\n",
    "\n",
    "        root.value = maxVal\n",
    "\n",
    "    # If the dataset is pure, return the value.\n",
    "    elif entropy1(data) == 0:\n",
    "        root.value = data[colNames[ncol-1]][data.index[0]]\n",
    "\n",
    "    else:\n",
    "        gains = infoGains(data)\n",
    "        index = -1\n",
    "        max = -1\n",
    "\n",
    "        for i in range(ncol-1):\n",
    "            if max < gains[i]:\n",
    "                max = gains[i]\n",
    "                index = i\n",
    "\n",
    "        root.name = colNames[index]\n",
    "        groups = data.groupby(root.name)\n",
    "        rowNames = groups.first().index\n",
    "\n",
    "        for row in rowNames:\n",
    "            group = groups.get_group(row)\n",
    "            child = Node()\n",
    "            child = decisionTree(group, child)\n",
    "            child.by = row\n",
    "            root.addChild(child)\n",
    "\n",
    "    return root"
   ]
  },
  {
   "cell_type": "code",
   "execution_count": 114,
   "metadata": {},
   "outputs": [],
   "source": [
    "# Create a decision tree of the dataset\n",
    "root = Node()\n",
    "root = decisionTree(df, root)"
   ]
  },
  {
   "cell_type": "code",
   "execution_count": 115,
   "metadata": {},
   "outputs": [
    {
     "output_type": "stream",
     "name": "stdout",
     "text": [
      "Outlook\n\t-- Overcast --> Yes\n\n\t-- Rain --> Wind\n\t\t-- Strong --> No\n\t\t-- Weak --> Yes\n\n\t-- Sunny --> Humidity\n\t\t-- High --> No\n\t\t-- Normal --> Yes\n"
     ]
    }
   ],
   "source": [
    "print(root.name)\n",
    "print('\\t--', root.childs[0].by, '-->', root.childs[0].value)\n",
    "print()\n",
    "print('\\t--', root.childs[1].by, '-->', root.childs[1].name)\n",
    "print('\\t\\t--', root.childs[1].childs[0].by, '-->', root.childs[1].childs[0].value)\n",
    "print('\\t\\t--', root.childs[1].childs[1].by, '-->', root.childs[1].childs[1].value)\n",
    "print()\n",
    "print('\\t--', root.childs[2].by, '-->', root.childs[2].name)\n",
    "print('\\t\\t--', root.childs[2].childs[0].by, '-->', root.childs[2].childs[0].value)\n",
    "print('\\t\\t--', root.childs[2].childs[1].by, '-->', root.childs[2].childs[1].value)"
   ]
  },
  {
   "cell_type": "code",
   "execution_count": 116,
   "metadata": {},
   "outputs": [
    {
     "output_type": "stream",
     "name": "stdout",
     "text": [
      "{\n  \"Outlook\": [\n    {\n      \"Overcast\": \"Yes\"\n    },\n    {\n      \"Rain\": {\n        \"Wind\": [\n          {\n            \"Strong\": \"No\"\n          },\n          {\n            \"Weak\": \"Yes\"\n          }\n        ]\n      }\n    },\n    {\n      \"Sunny\": {\n        \"Humidity\": [\n          {\n            \"High\": \"No\"\n          },\n          {\n            \"Normal\": \"Yes\"\n          }\n        ]\n      }\n    }\n  ]\n}\n"
     ]
    }
   ],
   "source": [
    "jsdata = Node.toJSON(root\n",
    "print(jsdata)\n"
   ]
  },
  {
   "cell_type": "code",
   "execution_count": null,
   "metadata": {},
   "outputs": [],
   "source": []
  }
 ],
 "metadata": {
  "kernelspec": {
   "name": "python3",
   "display_name": "Python 3.8.3 64-bit (conda)",
   "metadata": {
    "interpreter": {
     "hash": "3b23bfb938ff9336b2e0eaec636415540795b5bfd62e797e1ae0a6911e478540"
    }
   }
  },
  "language_info": {
   "codemirror_mode": {
    "name": "ipython",
    "version": 3
   },
   "file_extension": ".py",
   "mimetype": "text/x-python",
   "name": "python",
   "nbconvert_exporter": "python",
   "pygments_lexer": "ipython3",
   "version": "3.8.3-final"
  }
 },
 "nbformat": 4,
 "nbformat_minor": 2
}